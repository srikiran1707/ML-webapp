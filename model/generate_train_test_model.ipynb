{
 "cells": [
  {
   "cell_type": "code",
   "execution_count": null,
   "id": "9a6a8e9b",
   "metadata": {},
   "outputs": [],
   "source": []
  },
  {
   "cell_type": "code",
   "execution_count": null,
   "id": "81df7d60",
   "metadata": {},
   "outputs": [],
   "source": [
    "# import pandas as pd\n",
    "# ts=pd.read_csv(open('./matchbymatch.csv','rb'))\n",
    "# teams={}\n",
    "# for i in range(30):\n",
    "#     teams[ts['Team'][i]]=0\n",
    "# for i in range(30):\n",
    "#     secret_metric=((ts['NetRtg'][i]*10)+ts['FG%'][i]+ts['FT%'][i]+ts['3PT%'][i]+ts['ORB%'][i]+\\\n",
    "#                                                          ts['Assist%'][i]+ts['Wins'][i]+(ts['PtDiff'][i]/10))*22/7\n",
    "#     teams[ts['Team'][i]] = secret_metric"
   ]
  },
  {
   "cell_type": "code",
   "execution_count": null,
   "id": "b92752cc",
   "metadata": {},
   "outputs": [],
   "source": [
    "from sklearn.model_selection import train_test_split\n",
    "import pandas as pd\n",
    "final_team_stats = pd.read_csv(open('./matchbymatch.csv','rb'), index_col = 0)[::-1]\n",
    "# final_team_stats = final_team_stats.reindex(index=final_team_stats.index[::-1])\n",
    "# print(final_team_stats.head())\n",
    "\n",
    "cols =  [0,1,2,3,4,5,6,7,8,9,10,11,12,13,14,15,33,34,37,38]\n",
    "final_team_stats.drop(final_team_stats.columns[cols],axis=1, inplace=True)\n",
    "print(final_team_stats.head())"
   ]
  },
  {
   "cell_type": "code",
   "execution_count": null,
   "id": "0c3ead6f",
   "metadata": {},
   "outputs": [],
   "source": [
    "features = final_team_stats.drop(columns = 'Winner')\n",
    "label = final_team_stats['Winner']\n",
    "\n",
    "x_train, x_test, y_train, y_test = train_test_split(features, label, test_size = 0.2)"
   ]
  },
  {
   "cell_type": "code",
   "execution_count": null,
   "id": "46892897",
   "metadata": {
    "scrolled": true
   },
   "outputs": [],
   "source": [
    "from sklearn.linear_model import LogisticRegression \n",
    "from sklearn.pipeline import make_pipeline\n",
    "from sklearn.preprocessing import StandardScaler\n",
    "from sklearn import metrics\n",
    "import pickle\n",
    "\n",
    "features = final_team_stats.drop(columns = 'Winner')\n",
    "label = final_team_stats['Winner']\n",
    "\n",
    "max_acc=0\n",
    "for i in range(100):\n",
    "    x_train, x_test, y_train, y_test = train_test_split(features, label, test_size = 0.2)\n",
    "\n",
    "    # create complex Logistic Regression with max_iter=160\n",
    "    log_model = make_pipeline(StandardScaler(), LogisticRegression())\n",
    "    log_model.fit(x_train, y_train)\n",
    "    y_pred_log = log_model.predict(x_test)\n",
    "    acc= float(metrics.accuracy_score(y_test, y_pred_log))\n",
    "\n",
    "    if acc > max_acc :\n",
    "        pickle.dump(log_model, open('prediction.pkl', 'wb'))\n",
    "        max_acc=acc\n",
    "\n",
    "print(\"accuracy is: \"+\"{:.2f}\".format(max_acc*100)+\"%\")"
   ]
  },
  {
   "cell_type": "code",
   "execution_count": null,
   "id": "31081b77",
   "metadata": {},
   "outputs": [],
   "source": [
    "loaded_model = pickle.load(open('prediction.pkl', 'rb'))\n",
    "y_pred = loaded_model.predict(x_test)\n",
    "acc= float(metrics.accuracy_score(y_test, y_pred))\n",
    "\n",
    "print('logistic regression : '+\"{:.2f}\".format(acc*100)+\"%\")"
   ]
  },
  {
   "cell_type": "code",
   "execution_count": null,
   "id": "40bbb3e6",
   "metadata": {},
   "outputs": [],
   "source": [
    "# random forest\n",
    "from sklearn.ensemble import RandomForestClassifier\n",
    "\n",
    "rf = RandomForestClassifier(random_state=42)\n",
    "rf.fit(x_train, y_train)\n",
    "y_pred_rf = rf.predict(x_test)\n",
    "\n",
    "acc= float(metrics.accuracy_score(y_test, y_pred_rf))\n",
    "\n",
    "print('random forest : '+\"{:.2f}\".format(acc*100)+\"%\")"
   ]
  },
  {
   "cell_type": "code",
   "execution_count": null,
   "id": "0102614d",
   "metadata": {},
   "outputs": [],
   "source": [
    "# linear svc\n",
    "from sklearn.svm import LinearSVC\n",
    "\n",
    "lclf = LinearSVC(random_state=0, tol=1e-5, max_iter=1000)\n",
    "lclf.fit(x_train, y_train)\n",
    "y_pred_svc = lclf.predict(x_test)\n",
    "\n",
    "acc= float(metrics.accuracy_score(y_test, y_pred_svc))\n",
    "\n",
    "print('linear svc : '+\"{:.2f}\".format(acc*100)+\"%\")"
   ]
  },
  {
   "cell_type": "code",
   "execution_count": null,
   "id": "90b26905",
   "metadata": {},
   "outputs": [],
   "source": [
    "# KNN\n",
    "from sklearn.neighbors import KNeighborsClassifier\n",
    "from sklearn import preprocessing\n",
    "\n",
    "knn = KNeighborsClassifier(n_neighbors=10)\n",
    "knn.fit(x_train, y_train)\n",
    "y_pred_knn = knn.predict(x_test)\n",
    "\n",
    "acc= float(metrics.accuracy_score(y_test, y_pred_knn))\n",
    "\n",
    "print('KNN : '+\"{:.2f}\".format(acc*100)+\"%\")"
   ]
  },
  {
   "cell_type": "code",
   "execution_count": null,
   "id": "ab15be59",
   "metadata": {},
   "outputs": [],
   "source": [
    "\n",
    "import pandas as pd\n",
    "class nbaWinPredictor:\n",
    "    def recent_performance(Home,Away):\n",
    "        Home=Home.upper()\n",
    "        Away=Away.upper()\n",
    "        gl=pd.read_csv(open('./matchbymatch.csv','rb'), index_col = 0)\n",
    "        h_win=0\n",
    "        a_win=0\n",
    "        for(i,j,k) in zip(gl['Home'], gl['Away'], gl['Winner']):\n",
    "            if(i==Home and j==Away):\n",
    "                if(k==\"H\"):\n",
    "                    h_win+=1\n",
    "                else:\n",
    "                    a_win+=1\n",
    "            if(i==Away and j==Home):\n",
    "                if(k==\"H\"):\n",
    "                    a_win+=1\n",
    "                else:\n",
    "                    h_win+=1\n",
    "        return 'In the 2017-18 NBA season, when these two teams played each other, '+  Home + \" Won \"+ str(h_win) + \" times, while \"+ Away + \" won \"+ str(a_win)+\" times\"\n",
    "            \n",
    "    def prediction_model(Home,Away):\n",
    "        Home=Home.upper()\n",
    "        Away=Away.upper()\n",
    "        match_by_match_stats = pd.read_csv(open('./matchbymatch.csv','rb'), index_col = 0)[::-1]\n",
    "        total_no_of_matches = len(match_by_match_stats)\n",
    "        cols=[]\n",
    "        home_stats=[]\n",
    "        away_stats=[]\n",
    "        home_elo=0\n",
    "        away_elo=0\n",
    "        home_sm=0\n",
    "        away_sm=0\n",
    "        home_found=False\n",
    "        away_found=False\n",
    "        col_names=['HRFG%','HR3P%','HRFT%','HRO','HRT','HRS','HRP','ARFG%','AR3P%','ARFT%','ARO','ART','ARS','ARP','Home_elo_before','Away_elo_before','Home_sm_before','Away_sm_before']\n",
    "        for i in range(total_no_of_matches-1,0,-1):\n",
    "            if(match_by_match_stats['Home'][i]==Home and not home_found): \n",
    "                home_found=True\n",
    "                home_elo=match_by_match_stats['Home_elo_before'][i]\n",
    "                home_sm=match_by_match_stats['Home_sm_before'][i]\n",
    "                home_stats.append(match_by_match_stats['HRFG%'][i])\n",
    "                home_stats.append(match_by_match_stats['HR3P%'][i])\n",
    "                home_stats.append(match_by_match_stats['HRFT%'][i])\n",
    "                home_stats.append(match_by_match_stats['HRO'][i])\n",
    "                home_stats.append(match_by_match_stats['HRT'][i])\n",
    "                home_stats.append(match_by_match_stats['HRS'][i])\n",
    "                home_stats.append(match_by_match_stats['HRP'][i])\n",
    "            if(match_by_match_stats['Away'][i]==Away and not away_found):\n",
    "                away_found=True\n",
    "                away_elo=match_by_match_stats['Away_elo_before'][i]\n",
    "                away_sm=match_by_match_stats['Away_sm_before'][i]\n",
    "                away_stats.append(match_by_match_stats['ARFG%'][i])\n",
    "                away_stats.append(match_by_match_stats['AR3P%'][i])\n",
    "                away_stats.append(match_by_match_stats['ARFT%'][i])\n",
    "                away_stats.append(match_by_match_stats['ARO'][i])\n",
    "                away_stats.append(match_by_match_stats['ART'][i])\n",
    "                away_stats.append(match_by_match_stats['ARS'][i])\n",
    "                away_stats.append(match_by_match_stats['ARP'][i])\n",
    "            if(home_found and away_found):\n",
    "                cols.extend(home_stats)\n",
    "                cols.extend(away_stats)\n",
    "                cols.extend([home_elo,away_elo,home_sm,away_sm])\n",
    "                break\n",
    "        df=pd.DataFrame([cols],columns=col_names)\n",
    "        res=\"\".join(log_model.predict(df))\n",
    "        win=Home if res=='H' else Away\n",
    "        return 'Team '+ win +' has a higher chance to win with an accuracy of '+\"{:.2f}\".format(acc*100)+'%'\n"
   ]
  },
  {
   "cell_type": "code",
   "execution_count": null,
   "id": "354aaafe",
   "metadata": {},
   "outputs": [],
   "source": [
    "nbaWinPredictor.prediction_model('atl','gsw')"
   ]
  },
  {
   "cell_type": "code",
   "execution_count": null,
   "id": "13d1c09d",
   "metadata": {},
   "outputs": [],
   "source": []
  }
 ],
 "metadata": {
  "interpreter": {
   "hash": "2bfae34839456a13d53b41ac80f8e99fcd4198d818f6645cea4ae51a7786ac0b"
  },
  "kernelspec": {
   "display_name": "Python 3.9.7 64-bit",
   "language": "python",
   "name": "python3"
  },
  "language_info": {
   "codemirror_mode": {
    "name": "ipython",
    "version": 3
   },
   "file_extension": ".py",
   "mimetype": "text/x-python",
   "name": "python",
   "nbconvert_exporter": "python",
   "pygments_lexer": "ipython3",
   "version": "3.9.7"
  }
 },
 "nbformat": 4,
 "nbformat_minor": 5
}
