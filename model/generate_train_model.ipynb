{
 "cells": [
  {
   "cell_type": "code",
   "execution_count": null,
   "id": "9a6a8e9b",
   "metadata": {},
   "outputs": [],
   "source": []
  },
  {
   "cell_type": "code",
   "execution_count": 18,
   "id": "81df7d60",
   "metadata": {},
   "outputs": [],
   "source": [
    "import pandas as pd\n",
    "ts=pd.read_csv('C:\\\\Users\\\\sriki\\\\Downloads\\\\TeamstatsFinal.csv')\n",
    "teams={}\n",
    "for i in range(30):\n",
    "    teams[ts['Team'][i]]=0\n",
    "for i in range(30):\n",
    "    secret_metric=((ts['NetRtg'][i]*10)+ts['FG%'][i]+ts['FT%'][i]+ts['3PT%'][i]+ts['ORB%'][i]+\\\n",
    "                                                         ts['Assist%'][i]+ts['Wins'][i]+(ts['PtDiff'][i]/10))*22/7\n",
    "    teams[ts['Team'][i]] = secret_metric"
   ]
  },
  {
   "cell_type": "code",
   "execution_count": 19,
   "id": "b92752cc",
   "metadata": {},
   "outputs": [
    {
     "name": "stdout",
     "output_type": "stream",
     "text": [
      "        HRFG%     HR3P%     HRFT%   HRO  HRT   HRS    HRP     ARFG%     AR3P%  \\\n",
      "990  0.441618  0.355649  0.719697   9.2  6.8  13.3   94.4  0.444836  0.346939   \n",
      "989  0.439866  0.281250  0.802198  12.1  8.0  12.7  102.6  0.510131  0.379870   \n",
      "988  0.475581  0.371981  0.693487  11.9  6.9  13.3  107.6  0.450536  0.320690   \n",
      "987  0.488499  0.360119  0.711790   9.7  8.7  14.2  117.6  0.491582  0.370656   \n",
      "986  0.413483  0.293160  0.741176   9.0  9.5  12.4   95.2  0.464923  0.374517   \n",
      "\n",
      "        ARFT%  ARO   ART   ARS    ARP Winner  Home_elo_before  \\\n",
      "990  0.740741  7.7   8.6  12.9  107.1      H      1347.869511   \n",
      "989  0.724444  9.2   8.4  14.3  113.6      H      1570.798870   \n",
      "988  0.741176  9.4   6.2  14.6  103.8      A      1489.065725   \n",
      "987  0.797980  9.1  10.0  12.2  113.0      H      1610.837760   \n",
      "986  0.780899  9.3   7.3  15.4  101.8      H      1359.353756   \n",
      "\n",
      "     Away_elo_before  Home_sm_before  Away_sm_before  \n",
      "990      1712.514274      688.126621     1206.477652  \n",
      "989      1658.430390      997.595751     1098.783815  \n",
      "988      1463.320658      910.409232      858.279177  \n",
      "987      1502.672811     1060.618050      918.731256  \n",
      "986      1486.843115      731.518743      903.368687  \n"
     ]
    }
   ],
   "source": [
    "from sklearn.model_selection import train_test_split\n",
    "import pandas as pd\n",
    "final_team_stats = pd.read_csv(\"C:\\\\Users\\\\sriki\\\\Downloads\\\\matchbymatch.csv\", index_col = 0)[::-1]\n",
    "# final_team_stats = final_team_stats.reindex(index=final_team_stats.index[::-1])\n",
    "# print(final_team_stats.head())\n",
    "\n",
    "cols =  [0,1,2,3,4,5,6,7,8,9,10,11,12,13,14,15,33,34,37,38]\n",
    "final_team_stats.drop(final_team_stats.columns[cols],axis=1, inplace=True)\n",
    "print(final_team_stats.head())"
   ]
  },
  {
   "cell_type": "code",
   "execution_count": 20,
   "id": "0c3ead6f",
   "metadata": {},
   "outputs": [],
   "source": [
    "features = final_team_stats.drop(columns = 'Winner')\n",
    "label = final_team_stats['Winner']\n",
    "\n",
    "x_train, x_test, y_train, y_test = train_test_split(features, label, test_size = 0.2)"
   ]
  },
  {
   "cell_type": "code",
   "execution_count": 21,
   "id": "46892897",
   "metadata": {
    "scrolled": true
   },
   "outputs": [
    {
     "name": "stdout",
     "output_type": "stream",
     "text": [
      "accuracy is: 72.86%\n"
     ]
    }
   ],
   "source": [
    "from sklearn.linear_model import LogisticRegression \n",
    "from sklearn.pipeline import make_pipeline\n",
    "from sklearn.preprocessing import StandardScaler\n",
    "from sklearn import metrics\n",
    "import pickle\n",
    "\n",
    "features = final_team_stats.drop(columns = 'Winner')\n",
    "label = final_team_stats['Winner']\n",
    "\n",
    "max_acc=0\n",
    "for i in range(100):\n",
    "    x_train, x_test, y_train, y_test = train_test_split(features, label, test_size = 0.2)\n",
    "\n",
    "    # create complex Logistic Regression with max_iter=160\n",
    "    log_model = make_pipeline(StandardScaler(), LogisticRegression())\n",
    "    log_model.fit(x_train, y_train)\n",
    "    y_pred_log = log_model.predict(x_test)\n",
    "    acc= float(metrics.accuracy_score(y_test, y_pred_log))\n",
    "\n",
    "    if acc > max_acc :\n",
    "        pickle.dump(log_model, open('prediction.pkl', 'wb'))\n",
    "        max_acc=acc\n",
    "\n",
    "print(\"accuracy is: \"+\"{:.2f}\".format(max_acc*100)+\"%\")"
   ]
  },
  {
   "cell_type": "code",
   "execution_count": 52,
   "id": "31081b77",
   "metadata": {},
   "outputs": [
    {
     "name": "stdout",
     "output_type": "stream",
     "text": [
      "logistic regression : 70.85%\n"
     ]
    }
   ],
   "source": [
    "loaded_model = pickle.load(open('prediction.pkl', 'rb'))\n",
    "y_pred = loaded_model.predict(x_test)\n",
    "acc= float(metrics.accuracy_score(y_test, y_pred))\n",
    "\n",
    "print('logistic regression : '+\"{:.2f}\".format(acc*100)+\"%\")"
   ]
  },
  {
   "cell_type": "code",
   "execution_count": 53,
   "id": "40bbb3e6",
   "metadata": {},
   "outputs": [
    {
     "name": "stdout",
     "output_type": "stream",
     "text": [
      "random forest : 64.32%\n"
     ]
    }
   ],
   "source": [
    "# random forest\n",
    "from sklearn.ensemble import RandomForestClassifier\n",
    "\n",
    "rf = RandomForestClassifier(random_state=42)\n",
    "rf.fit(x_train, y_train)\n",
    "y_pred_rf = rf.predict(x_test)\n",
    "\n",
    "acc= float(metrics.accuracy_score(y_test, y_pred_rf))\n",
    "\n",
    "print('random forest : '+\"{:.2f}\".format(acc*100)+\"%\")"
   ]
  },
  {
   "cell_type": "code",
   "execution_count": 55,
   "id": "0102614d",
   "metadata": {},
   "outputs": [
    {
     "name": "stdout",
     "output_type": "stream",
     "text": [
      "linear svc : 63.32%\n"
     ]
    },
    {
     "name": "stderr",
     "output_type": "stream",
     "text": [
      "c:\\Users\\sriki\\AppData\\Local\\Programs\\Python\\Python39\\lib\\site-packages\\sklearn\\svm\\_base.py:1199: ConvergenceWarning: Liblinear failed to converge, increase the number of iterations.\n",
      "  warnings.warn(\n"
     ]
    }
   ],
   "source": [
    "# linear svc\n",
    "from sklearn.svm import LinearSVC\n",
    "\n",
    "lclf = LinearSVC(random_state=0, tol=1e-5, max_iter=1000)\n",
    "lclf.fit(x_train, y_train)\n",
    "y_pred_svc = lclf.predict(x_test)\n",
    "\n",
    "acc= float(metrics.accuracy_score(y_test, y_pred_svc))\n",
    "\n",
    "print('linear svc : '+\"{:.2f}\".format(acc*100)+\"%\")"
   ]
  },
  {
   "cell_type": "code",
   "execution_count": 49,
   "id": "90b26905",
   "metadata": {},
   "outputs": [
    {
     "name": "stdout",
     "output_type": "stream",
     "text": [
      "KNN : 0.628140703517588\n"
     ]
    },
    {
     "name": "stderr",
     "output_type": "stream",
     "text": [
      "c:\\Users\\sriki\\AppData\\Local\\Programs\\Python\\Python39\\lib\\site-packages\\sklearn\\base.py:441: UserWarning: X does not have valid feature names, but KNeighborsClassifier was fitted with feature names\n",
      "  warnings.warn(\n"
     ]
    }
   ],
   "source": [
    "# KNN\n",
    "from sklearn.neighbors import KNeighborsClassifier\n",
    "from sklearn import preprocessing\n",
    "\n",
    "knn = KNeighborsClassifier(n_neighbors=10)\n",
    "knn.fit(x_train, y_train)\n",
    "y_pred_knn = knn.predict(x_test)\n",
    "\n",
    "acc= float(metrics.accuracy_score(y_test, y_pred_knn))\n",
    "\n",
    "print('KNN : '+\"{:.2f}\".format(acc*100)+\"%\")"
   ]
  },
  {
   "cell_type": "code",
   "execution_count": 38,
   "id": "ab15be59",
   "metadata": {},
   "outputs": [],
   "source": [
    "\n",
    "import pandas as pd\n",
    "class nbaWinPredictor:\n",
    "    def recent_performance(Home,Away):\n",
    "        Home=Home.upper()\n",
    "        Away=Away.upper()\n",
    "        gl=pd.read_csv(\"C:\\\\Users\\\\sriki\\\\Downloads\\\\matchbymatch.csv\", index_col = 0)\n",
    "        h_win=0\n",
    "        a_win=0\n",
    "        for(i,j,k) in zip(gl['Home'], gl['Away'], gl['Winner']):\n",
    "            if(i==Home and j==Away):\n",
    "                if(k==\"H\"):\n",
    "                    h_win+=1\n",
    "                else:\n",
    "                    a_win+=1\n",
    "            if(i==Away and j==Home):\n",
    "                if(k==\"H\"):\n",
    "                    a_win+=1\n",
    "                else:\n",
    "                    h_win+=1\n",
    "        return 'In the 2017-18 NBA season, when these two teams played each other, '+  Home + \" Won \"+ str(h_win) + \" times, while \"+ Away + \" won \"+ str(a_win)+\" times\"\n",
    "            \n",
    "    def prediction_model(Home,Away):\n",
    "        Home=Home.upper()\n",
    "        Away=Away.upper()\n",
    "        match_by_match_stats = pd.read_csv(\"C:\\\\Users\\\\sriki\\\\Downloads\\\\matchbymatch.csv\", index_col = 0)[::-1]\n",
    "        total_no_of_matches = len(match_by_match_stats)\n",
    "        cols=[]\n",
    "        home_stats=[]\n",
    "        away_stats=[]\n",
    "        home_elo=0\n",
    "        away_elo=0\n",
    "        home_sm=0\n",
    "        away_sm=0\n",
    "        home_found=False\n",
    "        away_found=False\n",
    "        col_names=['HRFG%','HR3P%','HRFT%','HRO','HRT','HRS','HRP','ARFG%','AR3P%','ARFT%','ARO','ART','ARS','ARP','Home_elo_before','Away_elo_before','Home_sm_before','Away_sm_before']\n",
    "        for i in range(total_no_of_matches-1,0,-1):\n",
    "            if(match_by_match_stats['Home'][i]==Home and not home_found): \n",
    "                home_found=True\n",
    "                home_elo=match_by_match_stats['Home_elo_before'][i]\n",
    "                home_sm=match_by_match_stats['Home_sm_before'][i]\n",
    "                home_stats.append(match_by_match_stats['HRFG%'][i])\n",
    "                home_stats.append(match_by_match_stats['HR3P%'][i])\n",
    "                home_stats.append(match_by_match_stats['HRFT%'][i])\n",
    "                home_stats.append(match_by_match_stats['HRO'][i])\n",
    "                home_stats.append(match_by_match_stats['HRT'][i])\n",
    "                home_stats.append(match_by_match_stats['HRS'][i])\n",
    "                home_stats.append(match_by_match_stats['HRP'][i])\n",
    "            if(match_by_match_stats['Away'][i]==Away and not away_found):\n",
    "                away_found=True\n",
    "                away_elo=match_by_match_stats['Away_elo_before'][i]\n",
    "                away_sm=match_by_match_stats['Away_sm_before'][i]\n",
    "                away_stats.append(match_by_match_stats['ARFG%'][i])\n",
    "                away_stats.append(match_by_match_stats['AR3P%'][i])\n",
    "                away_stats.append(match_by_match_stats['ARFT%'][i])\n",
    "                away_stats.append(match_by_match_stats['ARO'][i])\n",
    "                away_stats.append(match_by_match_stats['ART'][i])\n",
    "                away_stats.append(match_by_match_stats['ARS'][i])\n",
    "                away_stats.append(match_by_match_stats['ARP'][i])\n",
    "            if(home_found and away_found):\n",
    "                cols.extend(home_stats)\n",
    "                cols.extend(away_stats)\n",
    "                cols.extend([home_elo,away_elo,home_sm,away_sm])\n",
    "                break\n",
    "        df=pd.DataFrame([cols],columns=col_names)\n",
    "        res=\"\".join(log_model.predict(df))\n",
    "        win=Home if res=='H' else Away\n",
    "        return 'Team '+ win +' has a higher chance to win with an accuracy of '+\"{:.2f}\".format(acc*100)+'%'\n"
   ]
  },
  {
   "cell_type": "code",
   "execution_count": 40,
   "id": "354aaafe",
   "metadata": {},
   "outputs": [
    {
     "data": {
      "text/plain": [
       "'Team GSW has a higher chance to win with an accuracy of 70.85%'"
      ]
     },
     "execution_count": 40,
     "metadata": {},
     "output_type": "execute_result"
    }
   ],
   "source": [
    "nbaWinPredictor.prediction_model('atl','gsw')"
   ]
  },
  {
   "cell_type": "code",
   "execution_count": null,
   "id": "13d1c09d",
   "metadata": {},
   "outputs": [],
   "source": []
  }
 ],
 "metadata": {
  "interpreter": {
   "hash": "2bfae34839456a13d53b41ac80f8e99fcd4198d818f6645cea4ae51a7786ac0b"
  },
  "kernelspec": {
   "display_name": "Python 3.9.7 64-bit",
   "language": "python",
   "name": "python3"
  },
  "language_info": {
   "codemirror_mode": {
    "name": "ipython",
    "version": 3
   },
   "file_extension": ".py",
   "mimetype": "text/x-python",
   "name": "python",
   "nbconvert_exporter": "python",
   "pygments_lexer": "ipython3",
   "version": "3.9.7"
  }
 },
 "nbformat": 4,
 "nbformat_minor": 5
}
